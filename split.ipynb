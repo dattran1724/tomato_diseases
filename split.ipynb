{
 "cells": [
  {
   "cell_type": "code",
   "execution_count": 1,
   "metadata": {},
   "outputs": [
    {
     "name": "stdout",
     "output_type": "stream",
     "text": [
      "Đã chuyển 10 hình ảnh của lớp Tomato___Bacterial_spot vào tập test.\n",
      "Đã chuyển 10 hình ảnh của lớp Tomato___Early_blight vào tập test.\n",
      "Đã chuyển 10 hình ảnh của lớp Tomato___healthy vào tập test.\n",
      "Đã chuyển 10 hình ảnh của lớp Tomato___Late_blight vào tập test.\n",
      "Đã chuyển 10 hình ảnh của lớp Tomato___Leaf_Mold vào tập test.\n",
      "Đã chuyển 10 hình ảnh của lớp Tomato___Septoria_leaf_spot vào tập test.\n",
      "Đã chuyển 10 hình ảnh của lớp Tomato___Spider_mites Two-spotted_spider_mite vào tập test.\n",
      "Đã chuyển 10 hình ảnh của lớp Tomato___Target_Spot vào tập test.\n",
      "Đã chuyển 10 hình ảnh của lớp Tomato___Tomato_mosaic_virus vào tập test.\n",
      "Đã chuyển 10 hình ảnh của lớp Tomato___Tomato_Yellow_Leaf_Curl_Virus vào tập test.\n"
     ]
    }
   ],
   "source": [
    "import os\n",
    "import random\n",
    "import shutil\n",
    "\n",
    "# Đường dẫn đến tập dữ liệu gốc\n",
    "dataset_dir = \"D:\\\\CaChua\\\\tomato\\\\val\"\n",
    "test_dir = \"D:\\\\CaChua\\\\tomato\\\\test\"\n",
    "\n",
    "# Tạo thư mục cho tập test nếu chưa tồn tại\n",
    "os.makedirs(test_dir, exist_ok=True)\n",
    "\n",
    "# Tỉ lệ dữ liệu test (10%)\n",
    "test_ratio = 0.1\n",
    "\n",
    "# Lặp qua từng lớp (thư mục con)\n",
    "for class_name in os.listdir(dataset_dir):\n",
    "    class_path = os.path.join(dataset_dir, class_name)\n",
    "    \n",
    "    # Bỏ qua nếu không phải thư mục\n",
    "    if not os.path.isdir(class_path):\n",
    "        continue\n",
    "    \n",
    "    # Lấy danh sách tất cả hình ảnh trong lớp\n",
    "    images = os.listdir(class_path)\n",
    "    \n",
    "    # Chọn ngẫu nhiên 10% số hình ảnh\n",
    "    num_test_images = int(len(images) * test_ratio)\n",
    "    test_images = random.sample(images, num_test_images)\n",
    "    \n",
    "    # Tạo thư mục cho lớp đó trong tập test\n",
    "    test_class_dir = os.path.join(test_dir, class_name)\n",
    "    os.makedirs(test_class_dir, exist_ok=True)\n",
    "    \n",
    "    # Di chuyển hoặc sao chép hình ảnh đã chọn vào tập test\n",
    "    for img_name in test_images:\n",
    "        src_path = os.path.join(class_path, img_name)\n",
    "        dest_path = os.path.join(test_class_dir, img_name)\n",
    "        shutil.move(src_path, dest_path)  # Dùng shutil.copy() nếu muốn sao chép thay vì di chuyển\n",
    "\n",
    "    print(f\"Đã chuyển {len(test_images)} hình ảnh của lớp {class_name} vào tập test.\")\n"
   ]
  }
 ],
 "metadata": {
  "kernelspec": {
   "display_name": "Python 3",
   "language": "python",
   "name": "python3"
  },
  "language_info": {
   "codemirror_mode": {
    "name": "ipython",
    "version": 3
   },
   "file_extension": ".py",
   "mimetype": "text/x-python",
   "name": "python",
   "nbconvert_exporter": "python",
   "pygments_lexer": "ipython3",
   "version": "3.12.7"
  }
 },
 "nbformat": 4,
 "nbformat_minor": 2
}
